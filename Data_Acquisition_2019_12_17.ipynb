{
 "cells": [
  {
   "cell_type": "code",
   "execution_count": 2,
   "metadata": {},
   "outputs": [],
   "source": [
    "#importing relevant libraries\n",
    "import requests\n",
    "import pandas as pd"
   ]
  },
  {
   "cell_type": "code",
   "execution_count": 1,
   "metadata": {},
   "outputs": [],
   "source": [
    "# setting url to yelp API.\n",
    "# adding paramters to search for restaurants in Denver.\n",
    "# adding personal yelp API key. NOTE: need to edit to add your personal key before running code.\n",
    "\n",
    "url = \"https://api.yelp.com/v3/businesses/search\"\n",
    "\n",
    "term = \"Restaurants\"\n",
    "latitude = 39.752660 #Lat/ long are for union station\n",
    "longitude = -104.999967\n",
    "radius = 3200  #search radius from union station in meters. roughly 2 miles. Yelp uses as a suggestion; actual radius may vary.\n",
    "params = dict(term = term, latitude = latitude, longitude = longitude, radius = radius)\n",
    "\n",
    "api_key = 'REDACTED' # edit before running code\n",
    "headers = dict(Authorization = \"Bearer \"+api_key)"
   ]
  },
  {
   "cell_type": "code",
   "execution_count": 3,
   "metadata": {},
   "outputs": [
    {
     "data": {
      "text/plain": [
       "919"
      ]
     },
     "execution_count": 3,
     "metadata": {},
     "output_type": "execute_result"
    }
   ],
   "source": [
    "# checking the total number of search results. Can only pull up to 1000 with yelp\n",
    "response = requests.get(url = url, params = params, headers=headers)\n",
    "response_dict = response.json()\n",
    "response_dict['total']"
   ]
  },
  {
   "cell_type": "code",
   "execution_count": 4,
   "metadata": {},
   "outputs": [],
   "source": [
    "# requesting up to 50 restaurants at a time (yelp max) up to total number of search results.\n",
    "\n",
    "num_loops = response_dict['total'] // 50 + 1\n",
    "last_loop_limit = response_dict['total'] % 50\n",
    "offset = 0\n",
    "limit = 50\n",
    "restaurants = []\n",
    "\n",
    "for i in range(num_loops):\n",
    "    if i == max(range(num_loops)):\n",
    "        limit = last_loop_limit\n",
    "    params = dict(term = term, latitude = latitude, longitude = longitude, radius = radius, limit = limit, offset = offset)\n",
    "    response = requests.get(url = url, params = params, headers=headers)\n",
    "    response_dict = response.json()\n",
    "    restaurants.extend(response_dict['businesses'])\n",
    "    offset += 50"
   ]
  },
  {
   "cell_type": "code",
   "execution_count": 5,
   "metadata": {},
   "outputs": [],
   "source": [
    "df = pd.DataFrame(restaurants)"
   ]
  },
  {
   "cell_type": "code",
   "execution_count": 6,
   "metadata": {},
   "outputs": [],
   "source": [
    "#putting location information into its own columns and dropping the location dictionary\n",
    "df['address1'] = df['location'].apply(lambda loc_dict: loc_dict['address1'])\n",
    "df['address2'] = df['location'].apply(lambda loc_dict: loc_dict['address2'])\n",
    "df['address3'] = df['location'].apply(lambda loc_dict: loc_dict['address3'])\n",
    "df['city'] = df['location'].apply(lambda loc_dict: loc_dict['city'])\n",
    "df['country'] = df['location'].apply(lambda loc_dict: loc_dict['country'])\n",
    "df['display_address'] = df['location'].apply(lambda loc_dict: loc_dict['display_address'])\n",
    "df['state'] = df['location'].apply(lambda loc_dict: loc_dict['state'])\n",
    "df['zip_code'] = df['location'].apply(lambda loc_dict: loc_dict['zip_code'])\n",
    "df.drop(['location'], axis = 1, inplace=True)"
   ]
  },
  {
   "cell_type": "code",
   "execution_count": 7,
   "metadata": {},
   "outputs": [],
   "source": [
    "#putting the latitude and longitude into their own columns and deleting the coordinates dictionary\n",
    "df['latitude'] = df['coordinates'].apply(lambda coord_dict: coord_dict['latitude'])\n",
    "df['longitude'] = df['coordinates'].apply(lambda coord_dict: coord_dict['longitude'])\n",
    "df.drop(['coordinates'], axis =1,  inplace=True)"
   ]
  },
  {
   "cell_type": "code",
   "execution_count": 9,
   "metadata": {},
   "outputs": [],
   "source": [
    "# There are up to three categories per restaurant. Added to their own columns and dropped the categories dictionary\n",
    "df['categories_num'] = df['categories'].apply(lambda cat_list: len(cat_list))\n",
    "df['category_1_alias'] = df['categories'].apply(lambda cat_list: cat_list[0]['alias'] if len(cat_list) > 0 else None)\n",
    "df['category_1_title'] = df['categories'].apply(lambda cat_list: cat_list[0]['title'] if len(cat_list) > 0 else None)\n",
    "df['category_2_alias'] = df['categories'].apply(lambda cat_list: cat_list[1]['alias'] if len(cat_list) > 1 else None)\n",
    "df['category_2_title'] = df['categories'].apply(lambda cat_list: cat_list[1]['title'] if len(cat_list) > 1 else None)\n",
    "df['category_3_alias'] = df['categories'].apply(lambda cat_list: cat_list[2]['alias'] if len(cat_list) > 2 else None)\n",
    "df['category_3_title'] = df['categories'].apply(lambda cat_list: cat_list[2]['title'] if len(cat_list) > 2 else None)\n",
    "df.drop(['categories'], axis =1, inplace=True)"
   ]
  },
  {
   "cell_type": "code",
   "execution_count": 11,
   "metadata": {},
   "outputs": [],
   "source": [
    "df.to_csv(path_or_buf=r'C:\\Users\\MainUser\\Desktop\\Restaurants.csv', index=False)"
   ]
  }
 ],
 "metadata": {
  "kernelspec": {
   "display_name": "Python 3",
   "language": "python",
   "name": "python3"
  },
  "language_info": {
   "codemirror_mode": {
    "name": "ipython",
    "version": 3
   },
   "file_extension": ".py",
   "mimetype": "text/x-python",
   "name": "python",
   "nbconvert_exporter": "python",
   "pygments_lexer": "ipython3",
   "version": "3.7.3"
  }
 },
 "nbformat": 4,
 "nbformat_minor": 2
}
